{
 "cells": [
  {
   "cell_type": "code",
   "execution_count": 3,
   "metadata": {},
   "outputs": [],
   "source": [
    "import opsimsummaryv2 as op\n",
    "from urllib.request import urlretrieve\n",
    "from pathlib import Path"
   ]
  },
  {
   "cell_type": "code",
   "execution_count": 11,
   "metadata": {},
   "outputs": [
    {
     "data": {
      "text/plain": [
       "(PosixPath('example_files/baseline_v3.4_10yrs.db'),\n",
       " <http.client.HTTPMessage at 0x7fdcc5381a30>)"
      ]
     },
     "execution_count": 11,
     "metadata": {},
     "output_type": "execute_result"
    }
   ],
   "source": [
    "# Dowload the db file if needed\n",
    "url = \"http://astro-lsst-01.astro.washington.edu:8080/fbs_db/fbs_3.4/baseline/baseline_v3.4_10yrs.db\"\n",
    "\n",
    "output_path = Path('./example_files/')\n",
    "output_path.mkdir(parents=True, exist_ok=True)\n",
    "\n",
    "file = output_path / \"baseline_v3.4_10yrs.db\"\n",
    "\n",
    "urlretrieve(url, file)"
   ]
  },
  {
   "cell_type": "code",
   "execution_count": null,
   "metadata": {},
   "outputs": [
    {
     "ename": "NameError",
     "evalue": "name 'op' is not defined",
     "output_type": "error",
     "traceback": [
      "\u001b[0;31m---------------------------------------------------------------------------\u001b[0m",
      "\u001b[0;31mNameError\u001b[0m                                 Traceback (most recent call last)",
      "Cell \u001b[0;32mIn[2], line 2\u001b[0m\n\u001b[1;32m      1\u001b[0m \u001b[38;5;66;03m# Opening the database\u001b[39;00m\n\u001b[0;32m----> 2\u001b[0m OpSimSurv \u001b[38;5;241m=\u001b[39m \u001b[43mop\u001b[49m\u001b[38;5;241m.\u001b[39mOpSimSurvey(\u001b[38;5;124m'\u001b[39m\u001b[38;5;124m./example_files/baseline_v3.4_10yrs.db\u001b[39m\u001b[38;5;124m'\u001b[39m)\n",
      "\u001b[0;31mNameError\u001b[0m: name 'op' is not defined"
     ]
    }
   ],
   "source": [
    "# Opening the database\n",
    "OpSimSurv = op.OpSimSurvey('./example_files/baseline_v3.4_10yrs.db')"
   ]
  },
  {
   "cell_type": "code",
   "execution_count": null,
   "metadata": {},
   "outputs": [],
   "source": [
    "# Compute the healpy representation of the survey with a cut to a minimum of 500 and a maximum of 10000 visits\n",
    "OpSimSurv.compute_hp_rep(nside=256, minVisits=500, maxVisits=10000)"
   ]
  },
  {
   "cell_type": "code",
   "execution_count": null,
   "metadata": {},
   "outputs": [],
   "source": [
    "%%time\n",
    "N_fields = 100\n",
    "seed = 1234\n",
    "\n",
    "# Sample the suvey with 100 fields\n",
    "OpSimSurv.sample_survey(N_fields, random_seed=seed)"
   ]
  }
 ],
 "metadata": {
  "kernelspec": {
   "display_name": "OpSimSummary_dev",
   "language": "python",
   "name": "python3"
  },
  "language_info": {
   "codemirror_mode": {
    "name": "ipython",
    "version": 3
   },
   "file_extension": ".py",
   "mimetype": "text/x-python",
   "name": "python",
   "nbconvert_exporter": "python",
   "pygments_lexer": "ipython3",
   "version": "3.9.19"
  }
 },
 "nbformat": 4,
 "nbformat_minor": 2
}
