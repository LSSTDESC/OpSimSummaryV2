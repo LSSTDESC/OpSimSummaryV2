{
 "cells": [
  {
   "cell_type": "code",
   "execution_count": 28,
   "id": "4766060c-ed04-49f2-ae81-39d055a1a1db",
   "metadata": {},
   "outputs": [],
   "source": [
    "import opsimsummaryv2 as op\n",
    "import importlib\n",
    "import pandas as pd\n",
    "from sqlalchemy import inspect"
   ]
  },
  {
   "cell_type": "code",
   "execution_count": 30,
   "id": "738636ad-e81d-4e89-bbb9-b54ba995d092",
   "metadata": {},
   "outputs": [
    {
     "ename": "NameError",
     "evalue": "name 'engine' is not defined",
     "output_type": "error",
     "traceback": [
      "\u001b[0;31m---------------------------------------------------------------------------\u001b[0m",
      "\u001b[0;31mNameError\u001b[0m                                 Traceback (most recent call last)",
      "Cell \u001b[0;32mIn[30], line 3\u001b[0m\n\u001b[1;32m      1\u001b[0m importlib\u001b[38;5;241m.\u001b[39mreload(op)\n\u001b[1;32m      2\u001b[0m importlib\u001b[38;5;241m.\u001b[39mreload(op\u001b[38;5;241m.\u001b[39msummary_opsim)\n\u001b[0;32m----> 3\u001b[0m inspector \u001b[38;5;241m=\u001b[39m inspect(\u001b[43mengine\u001b[49m)\n\u001b[1;32m      4\u001b[0m schemas \u001b[38;5;241m=\u001b[39m inspector\u001b[38;5;241m.\u001b[39mget_schema_names()\n",
      "\u001b[0;31mNameError\u001b[0m: name 'engine' is not defined"
     ]
    }
   ],
   "source": [
    "importlib.reload(op)\n",
    "importlib.reload(op.summary_opsim)\n"
   ]
  },
  {
   "cell_type": "code",
   "execution_count": 10,
   "id": "73524d60-e588-4d37-964a-f0b95162b697",
   "metadata": {},
   "outputs": [
    {
     "name": "stdout",
     "output_type": "stream",
     "text": [
      " Reading from database sqlite:////home/blc56/Documents/lsst_db/baseline_v3.4_10yrs.db\n"
     ]
    }
   ],
   "source": [
    "s = op.OpSimSummarizer._get_sql_engine('/home/blc56/Documents/lsst_db/baseline_v3.4_10yrs.db')"
   ]
  },
  {
   "cell_type": "code",
   "execution_count": 31,
   "id": "53114571-2889-4746-a1d8-d6532186985d",
   "metadata": {},
   "outputs": [],
   "source": [
    "inspector = inspect(s)\n",
    "schemas = inspector.get_schema_names()\n"
   ]
  },
  {
   "cell_type": "code",
   "execution_count": null,
   "id": "222aa5fe-387c-4ad9-8ec0-34848616d2ed",
   "metadata": {},
   "outputs": [],
   "source": [
    "df = pd.read_sql('observations', s)"
   ]
  },
  {
   "cell_type": "code",
   "execution_count": null,
   "id": "f9c10f57-db79-4f15-950f-c3deb33ec4e3",
   "metadata": {},
   "outputs": [],
   "source": []
  }
 ],
 "metadata": {
  "kernelspec": {
   "display_name": "OpSimSum_dev",
   "language": "python",
   "name": "opsimsum_dev"
  },
  "language_info": {
   "codemirror_mode": {
    "name": "ipython",
    "version": 3
   },
   "file_extension": ".py",
   "mimetype": "text/x-python",
   "name": "python",
   "nbconvert_exporter": "python",
   "pygments_lexer": "ipython3",
   "version": "3.9.19"
  }
 },
 "nbformat": 4,
 "nbformat_minor": 5
}
